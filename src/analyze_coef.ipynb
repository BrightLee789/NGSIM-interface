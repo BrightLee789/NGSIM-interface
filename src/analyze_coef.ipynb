{
 "cells": [
  {
   "cell_type": "code",
   "execution_count": 1,
   "metadata": {
    "collapsed": true
   },
   "outputs": [],
   "source": [
    "%load_ext autoreload\n",
    "%autoreload 2"
   ]
  },
  {
   "cell_type": "code",
   "execution_count": 2,
   "metadata": {},
   "outputs": [
    {
     "name": "stderr",
     "output_type": "stream",
     "text": [
      "/home/lemma/anaconda2/envs/python3/lib/python3.6/site-packages/h5py/__init__.py:34: FutureWarning: Conversion of the second argument of issubdtype from `float` to `np.floating` is deprecated. In future, it will be treated as `np.float64 == np.dtype(float).type`.\n",
      "  from ._conv import register_converters as _register_converters\n",
      "Using TensorFlow backend.\n",
      "/home/lemma/anaconda2/envs/python3/lib/python3.6/site-packages/statsmodels/compat/pandas.py:56: FutureWarning: The pandas.core.datetools module is deprecated and will be removed in a future version. Please use the pandas.tseries module instead.\n",
      "  from pandas.core import datetools\n"
     ]
    }
   ],
   "source": [
    "import os\n",
    "import numpy as np\n",
    "import pickle\n",
    "import seaborn as sns\n",
    "import matplotlib.pyplot as plt\n",
    "import pandas as pd\n",
    "plt.style.use('seaborn-pastel')\n",
    "from three_network import *\n",
    "import statsmodels.api as sm"
   ]
  },
  {
   "cell_type": "code",
   "execution_count": null,
   "metadata": {
    "collapsed": true
   },
   "outputs": [],
   "source": [
    "ls = run_three_networks(p_rate = 0.05, meter = 50, miss_rate = 0.05, spd_noise = 3.28084 * 0.0,\n",
    "                      sensing_power = 2, \n",
    "                      sample_rate = 1000, s1 = 'SI', s2 = 'LR2')"
   ]
  },
  {
   "cell_type": "code",
   "execution_count": 6,
   "metadata": {
    "collapsed": true
   },
   "outputs": [],
   "source": [
    "# pickle.dump(ls, open(os.path.join('..', 'data', 'results', 'base_case.pickle'), 'wb'))"
   ]
  },
  {
   "cell_type": "code",
   "execution_count": 7,
   "metadata": {
    "collapsed": true
   },
   "outputs": [],
   "source": [
    "ls = pickle.load(open(os.path.join('..', 'data', 'results', 'base_case.pickle'), 'rb'))"
   ]
  },
  {
   "cell_type": "code",
   "execution_count": 8,
   "metadata": {
    "collapsed": true
   },
   "outputs": [],
   "source": [
    "[ss1, ss2, ss3, m_true1, m_true2, m_true3] = ls"
   ]
  },
  {
   "cell_type": "markdown",
   "metadata": {},
   "source": [
    "### I-80"
   ]
  },
  {
   "cell_type": "code",
   "execution_count": 77,
   "metadata": {
    "collapsed": true
   },
   "outputs": [],
   "source": [
    "lane_ID = 1 #chose from [0,1,2,3,4,5]"
   ]
  },
  {
   "cell_type": "code",
   "execution_count": 78,
   "metadata": {
    "collapsed": true
   },
   "outputs": [],
   "source": [
    "X = ss1.spd_clf_list[lane_ID].X\n",
    "y = ss1.spd_clf_list[lane_ID].Y\n",
    "X = sm.add_constant(X)"
   ]
  },
  {
   "cell_type": "code",
   "execution_count": 79,
   "metadata": {
    "collapsed": true
   },
   "outputs": [],
   "source": [
    "results = sm.OLS(y, X).fit()"
   ]
  },
  {
   "cell_type": "code",
   "execution_count": 80,
   "metadata": {},
   "outputs": [
    {
     "name": "stdout",
     "output_type": "stream",
     "text": [
      "                            OLS Regression Results                            \n",
      "==============================================================================\n",
      "Dep. Variable:                      y   R-squared:                       0.723\n",
      "Model:                            OLS   Adj. R-squared:                  0.722\n",
      "Method:                 Least Squares   F-statistic:                     1017.\n",
      "Date:                Sun, 09 Jun 2019   Prob (F-statistic):               0.00\n",
      "Time:                        19:40:15   Log-Likelihood:                 18643.\n",
      "No. Observations:                4692   AIC:                        -3.726e+04\n",
      "Df Residuals:                    4679   BIC:                        -3.718e+04\n",
      "Df Model:                          12                                         \n",
      "Covariance Type:            nonrobust                                         \n",
      "==============================================================================\n",
      "                 coef    std err          t      P>|t|      [0.025      0.975]\n",
      "------------------------------------------------------------------------------\n",
      "const          0.0444      0.000    121.532      0.000       0.044       0.045\n",
      "x1            -0.3479      0.011    -31.716      0.000      -0.369      -0.326\n",
      "x2            -0.1418      0.009    -15.231      0.000      -0.160      -0.124\n",
      "x3            -0.2843      0.011    -25.115      0.000      -0.306      -0.262\n",
      "x4            -0.2737      0.011    -24.009      0.000      -0.296      -0.251\n",
      "x5            -0.0044      0.016     -0.273      0.785      -0.036       0.027\n",
      "x6             0.0056      0.016      0.355      0.723      -0.025       0.037\n",
      "x7            -0.0052      0.018     -0.292      0.771      -0.040       0.030\n",
      "x8            -0.0048      0.018     -0.272      0.786      -0.040       0.030\n",
      "x9            -0.0472      0.013     -3.613      0.000      -0.073      -0.022\n",
      "x10           -0.0867      0.010     -8.750      0.000      -0.106      -0.067\n",
      "x11           -0.0631      0.012     -5.142      0.000      -0.087      -0.039\n",
      "x12           -0.0424      0.012     -3.413      0.001      -0.067      -0.018\n",
      "==============================================================================\n",
      "Omnibus:                      148.014   Durbin-Watson:                   1.624\n",
      "Prob(Omnibus):                  0.000   Jarque-Bera (JB):              398.752\n",
      "Skew:                           0.020   Prob(JB):                     2.58e-87\n",
      "Kurtosis:                       4.428   Cond. No.                         322.\n",
      "==============================================================================\n",
      "\n",
      "Warnings:\n",
      "[1] Standard Errors assume that the covariance matrix of the errors is correctly specified.\n"
     ]
    }
   ],
   "source": [
    "print(results.summary())"
   ]
  },
  {
   "cell_type": "markdown",
   "metadata": {},
   "source": [
    "### US-101"
   ]
  },
  {
   "cell_type": "code",
   "execution_count": 68,
   "metadata": {
    "collapsed": true
   },
   "outputs": [],
   "source": [
    "lane_ID = 1 #chose from [0,1,2,3,4]"
   ]
  },
  {
   "cell_type": "code",
   "execution_count": 69,
   "metadata": {
    "collapsed": true
   },
   "outputs": [],
   "source": [
    "X = ss2.spd_clf_list[lane_ID].X\n",
    "y = ss2.spd_clf_list[lane_ID].Y\n",
    "X = sm.add_constant(X)"
   ]
  },
  {
   "cell_type": "code",
   "execution_count": 70,
   "metadata": {},
   "outputs": [
    {
     "name": "stdout",
     "output_type": "stream",
     "text": [
      "                            OLS Regression Results                            \n",
      "==============================================================================\n",
      "Dep. Variable:                      y   R-squared:                       0.832\n",
      "Model:                            OLS   Adj. R-squared:                  0.831\n",
      "Method:                 Least Squares   F-statistic:                     2149.\n",
      "Date:                Sun, 09 Jun 2019   Prob (F-statistic):               0.00\n",
      "Time:                        19:38:24   Log-Likelihood:                 19842.\n",
      "No. Observations:                5228   AIC:                        -3.966e+04\n",
      "Df Residuals:                    5215   BIC:                        -3.957e+04\n",
      "Df Model:                          12                                         \n",
      "Covariance Type:            nonrobust                                         \n",
      "==============================================================================\n",
      "                 coef    std err          t      P>|t|      [0.025      0.975]\n",
      "------------------------------------------------------------------------------\n",
      "const          0.0778      0.000    254.909      0.000       0.077       0.078\n",
      "x1            -0.4738      0.023    -20.676      0.000      -0.519      -0.429\n",
      "x2            -0.2630      0.018    -14.326      0.000      -0.299      -0.227\n",
      "x3            -0.4146      0.023    -17.700      0.000      -0.461      -0.369\n",
      "x4            -0.4781      0.024    -20.346      0.000      -0.524      -0.432\n",
      "x5            -0.2043      0.023     -9.030      0.000      -0.249      -0.160\n",
      "x6            -0.0947      0.017     -5.726      0.000      -0.127      -0.062\n",
      "x7            -0.1620      0.022     -7.352      0.000      -0.205      -0.119\n",
      "x8            -0.2354      0.022    -10.562      0.000      -0.279      -0.192\n",
      "x9            -0.1727      0.025     -6.790      0.000      -0.223      -0.123\n",
      "x10           -0.1788      0.019     -9.477      0.000      -0.216      -0.142\n",
      "x11           -0.1553      0.025     -6.198      0.000      -0.204      -0.106\n",
      "x12           -0.2067      0.025     -8.256      0.000      -0.256      -0.158\n",
      "==============================================================================\n",
      "Omnibus:                      149.866   Durbin-Watson:                   1.342\n",
      "Prob(Omnibus):                  0.000   Jarque-Bera (JB):              219.366\n",
      "Skew:                           0.297   Prob(JB):                     2.32e-48\n",
      "Kurtosis:                       3.808   Cond. No.                         397.\n",
      "==============================================================================\n",
      "\n",
      "Warnings:\n",
      "[1] Standard Errors assume that the covariance matrix of the errors is correctly specified.\n"
     ]
    }
   ],
   "source": [
    "results = sm.OLS(y, X).fit()\n",
    "print(results.summary())"
   ]
  },
  {
   "cell_type": "markdown",
   "metadata": {},
   "source": [
    "### Lankershim Blvd"
   ]
  },
  {
   "cell_type": "code",
   "execution_count": 74,
   "metadata": {
    "collapsed": true
   },
   "outputs": [],
   "source": [
    "lane_ID = 1 #chose from [0,1,2,3,4, 5, 6, 7, 8]"
   ]
  },
  {
   "cell_type": "code",
   "execution_count": 75,
   "metadata": {
    "collapsed": true
   },
   "outputs": [],
   "source": [
    "X = ss3.spd_clf_list[lane_ID].X\n",
    "y = ss3.spd_clf_list[lane_ID].Y\n",
    "X = sm.add_constant(X)"
   ]
  },
  {
   "cell_type": "code",
   "execution_count": 76,
   "metadata": {},
   "outputs": [
    {
     "name": "stdout",
     "output_type": "stream",
     "text": [
      "                            OLS Regression Results                            \n",
      "==============================================================================\n",
      "Dep. Variable:                      y   R-squared:                       0.309\n",
      "Model:                            OLS   Adj. R-squared:                  0.307\n",
      "Method:                 Least Squares   F-statistic:                     117.8\n",
      "Date:                Sun, 09 Jun 2019   Prob (F-statistic):          5.91e-243\n",
      "Time:                        19:40:03   Log-Likelihood:                 9578.9\n",
      "No. Observations:                3168   AIC:                        -1.913e+04\n",
      "Df Residuals:                    3155   BIC:                        -1.905e+04\n",
      "Df Model:                          12                                         \n",
      "Covariance Type:            nonrobust                                         \n",
      "==============================================================================\n",
      "                 coef    std err          t      P>|t|      [0.025      0.975]\n",
      "------------------------------------------------------------------------------\n",
      "const          0.0471      0.001     93.963      0.000       0.046       0.048\n",
      "x1            -0.3238      0.024    -13.630      0.000      -0.370      -0.277\n",
      "x2            -0.0768      0.023     -3.354      0.001      -0.122      -0.032\n",
      "x3            -0.1346      0.024     -5.617      0.000      -0.182      -0.088\n",
      "x4            -0.1088      0.025     -4.428      0.000      -0.157      -0.061\n",
      "x5            -0.1026      0.028     -3.723      0.000      -0.157      -0.049\n",
      "x6             0.0588      0.025      2.311      0.021       0.009       0.109\n",
      "x7            -0.0241      0.022     -1.092      0.275      -0.067       0.019\n",
      "x8             0.0279      0.023      1.235      0.217      -0.016       0.072\n",
      "x9            -0.1367      0.023     -5.924      0.000      -0.182      -0.091\n",
      "x10           -0.0200      0.021     -0.944      0.345      -0.061       0.022\n",
      "x11           -0.0599      0.023     -2.656      0.008      -0.104      -0.016\n",
      "x12           -0.0934      0.023     -4.093      0.000      -0.138      -0.049\n",
      "==============================================================================\n",
      "Omnibus:                      135.850   Durbin-Watson:                   1.661\n",
      "Prob(Omnibus):                  0.000   Jarque-Bera (JB):              135.556\n",
      "Skew:                          -0.468   Prob(JB):                     3.67e-30\n",
      "Kurtosis:                       2.613   Cond. No.                         159.\n",
      "==============================================================================\n",
      "\n",
      "Warnings:\n",
      "[1] Standard Errors assume that the covariance matrix of the errors is correctly specified.\n"
     ]
    }
   ],
   "source": [
    "results = sm.OLS(y, X).fit()\n",
    "print(results.summary())"
   ]
  },
  {
   "cell_type": "code",
   "execution_count": null,
   "metadata": {
    "collapsed": true
   },
   "outputs": [],
   "source": []
  }
 ],
 "metadata": {
  "kernelspec": {
   "display_name": "Python 3",
   "language": "python",
   "name": "python3"
  },
  "language_info": {
   "codemirror_mode": {
    "name": "ipython",
    "version": 3
   },
   "file_extension": ".py",
   "mimetype": "text/x-python",
   "name": "python",
   "nbconvert_exporter": "python",
   "pygments_lexer": "ipython3",
   "version": "3.6.8"
  }
 },
 "nbformat": 4,
 "nbformat_minor": 2
}
