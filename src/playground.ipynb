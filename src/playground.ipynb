{
 "cells": [
  {
   "cell_type": "code",
   "execution_count": 78,
   "metadata": {},
   "outputs": [],
   "source": [
    "from shapely.geometry import Polygon, LineString, Point\n",
    "import numpy as np"
   ]
  },
  {
   "cell_type": "code",
   "execution_count": 26,
   "metadata": {},
   "outputs": [],
   "source": [
    "polygon1 = Polygon([(0, 0), (1, 0), (2, 2), (3,3), (3,4), (2,5), (1,2), (0,6)])"
   ]
  },
  {
   "cell_type": "code",
   "execution_count": 27,
   "metadata": {},
   "outputs": [
    {
     "data": {
      "image/svg+xml": [
       "<svg xmlns=\"http://www.w3.org/2000/svg\" xmlns:xlink=\"http://www.w3.org/1999/xlink\" width=\"100.0\" height=\"100.0\" viewBox=\"-0.24 -0.24 3.48 6.48\" preserveAspectRatio=\"xMinYMin meet\"><g transform=\"matrix(1,0,0,-1,0,6.0)\"><path fill-rule=\"evenodd\" fill=\"#66cc99\" stroke=\"#555555\" stroke-width=\"0.1296\" opacity=\"0.6\" d=\"M 0.0,0.0 L 1.0,0.0 L 2.0,2.0 L 3.0,3.0 L 3.0,4.0 L 2.0,5.0 L 1.0,2.0 L 0.0,6.0 L 0.0,0.0 z\" /></g></svg>"
      ],
      "text/plain": [
       "<shapely.geometry.polygon.Polygon at 0x7ff5e67f6a90>"
      ]
     },
     "execution_count": 27,
     "metadata": {},
     "output_type": "execute_result"
    }
   ],
   "source": [
    "polygon1"
   ]
  },
  {
   "cell_type": "code",
   "execution_count": 10,
   "metadata": {},
   "outputs": [],
   "source": [
    "polygon2 = Polygon([(0, 0), (2, 0), (2, 3), (0,3)])"
   ]
  },
  {
   "cell_type": "code",
   "execution_count": 11,
   "metadata": {},
   "outputs": [
    {
     "data": {
      "image/svg+xml": [
       "<svg xmlns=\"http://www.w3.org/2000/svg\" xmlns:xlink=\"http://www.w3.org/1999/xlink\" width=\"100.0\" height=\"100.0\" viewBox=\"-0.12 -0.12 2.24 3.24\" preserveAspectRatio=\"xMinYMin meet\"><g transform=\"matrix(1,0,0,-1,0,3.0)\"><path fill-rule=\"evenodd\" fill=\"#66cc99\" stroke=\"#555555\" stroke-width=\"0.0648\" opacity=\"0.6\" d=\"M 0.0,0.0 L 2.0,0.0 L 2.0,3.0 L 0.0,3.0 L 0.0,0.0 z\" /></g></svg>"
      ],
      "text/plain": [
       "<shapely.geometry.polygon.Polygon at 0x7ff614bb4fd0>"
      ]
     },
     "execution_count": 11,
     "metadata": {},
     "output_type": "execute_result"
    }
   ],
   "source": [
    "polygon2"
   ]
  },
  {
   "cell_type": "code",
   "execution_count": 23,
   "metadata": {},
   "outputs": [
    {
     "data": {
      "text/plain": [
       "True"
      ]
     },
     "execution_count": 23,
     "metadata": {},
     "output_type": "execute_result"
    }
   ],
   "source": [
    "polygon1.intersection(polygon2).is_valid"
   ]
  },
  {
   "cell_type": "code",
   "execution_count": 14,
   "metadata": {},
   "outputs": [],
   "source": [
    "polygon3 = Polygon([(0, 0), (1, 1), (2, 2), (3,3), (3,4), (2,5), (1,2), (3,0)])"
   ]
  },
  {
   "cell_type": "code",
   "execution_count": 21,
   "metadata": {},
   "outputs": [
    {
     "data": {
      "text/plain": [
       "True"
      ]
     },
     "execution_count": 21,
     "metadata": {},
     "output_type": "execute_result"
    }
   ],
   "source": [
    "polygon1.is_valid"
   ]
  },
  {
   "cell_type": "code",
   "execution_count": 5,
   "metadata": {},
   "outputs": [
    {
     "data": {
      "text/plain": [
       "78"
      ]
     },
     "execution_count": 5,
     "metadata": {},
     "output_type": "execute_result"
    }
   ],
   "source": [
    "len(np.linspace(1, 4, 78))"
   ]
  },
  {
   "cell_type": "code",
   "execution_count": 69,
   "metadata": {},
   "outputs": [],
   "source": [
    "line = LineString([(0, 0), (2, 5)])"
   ]
  },
  {
   "cell_type": "code",
   "execution_count": 70,
   "metadata": {},
   "outputs": [],
   "source": [
    "line2 = line.intersection(polygon1)"
   ]
  },
  {
   "cell_type": "code",
   "execution_count": 71,
   "metadata": {},
   "outputs": [
    {
     "data": {
      "image/svg+xml": [
       "<svg xmlns=\"http://www.w3.org/2000/svg\" xmlns:xlink=\"http://www.w3.org/1999/xlink\" width=\"100.0\" height=\"100.0\" viewBox=\"-0.2 -0.2 2.4 5.4\" preserveAspectRatio=\"xMinYMin meet\"><g transform=\"matrix(1,0,0,-1,0,5.0)\"><g><circle cx=\"2.0\" cy=\"5.0\" r=\"0.162\" stroke=\"#555555\" stroke-width=\"0.054\" fill=\"#66cc99\" opacity=\"0.6\" /><polyline fill=\"none\" stroke=\"#66cc99\" stroke-width=\"0.108\" points=\"0.0,0.0 0.923076923077,2.30769230769\" opacity=\"0.8\" /></g></g></svg>"
      ],
      "text/plain": [
       "<shapely.geometry.collection.GeometryCollection at 0x7ff5e6571d90>"
      ]
     },
     "execution_count": 71,
     "metadata": {},
     "output_type": "execute_result"
    }
   ],
   "source": [
    "line2"
   ]
  },
  {
   "cell_type": "code",
   "execution_count": 76,
   "metadata": {},
   "outputs": [
    {
     "data": {
      "text/plain": [
       "[<shapely.geometry.point.Point at 0x7ff5e64a5c90>,\n",
       " <shapely.geometry.linestring.LineString at 0x7ff5e64a5dd0>]"
      ]
     },
     "execution_count": 76,
     "metadata": {},
     "output_type": "execute_result"
    }
   ],
   "source": [
    "list(line2)"
   ]
  },
  {
   "cell_type": "code",
   "execution_count": 54,
   "metadata": {},
   "outputs": [
    {
     "data": {
      "text/plain": [
       "(array('d', [0.0, 2.0, 2.0, 0.0, 0.0]), array('d', [0.0, 0.0, 3.0, 3.0, 0.0]))"
      ]
     },
     "execution_count": 54,
     "metadata": {},
     "output_type": "execute_result"
    }
   ],
   "source": [
    "polygon2.exterior.coords.xy"
   ]
  },
  {
   "cell_type": "code",
   "execution_count": null,
   "metadata": {},
   "outputs": [],
   "source": []
  },
  {
   "cell_type": "code",
   "execution_count": null,
   "metadata": {},
   "outputs": [],
   "source": []
  },
  {
   "cell_type": "code",
   "execution_count": 80,
   "metadata": {},
   "outputs": [],
   "source": [
    "c = Point(5, 5).buffer(3)"
   ]
  },
  {
   "cell_type": "code",
   "execution_count": 81,
   "metadata": {},
   "outputs": [
    {
     "data": {
      "image/svg+xml": [
       "<svg xmlns=\"http://www.w3.org/2000/svg\" xmlns:xlink=\"http://www.w3.org/1999/xlink\" width=\"100.0\" height=\"100.0\" viewBox=\"1.76 1.76 6.48 6.48\" preserveAspectRatio=\"xMinYMin meet\"><g transform=\"matrix(1,0,0,-1,0,10.0)\"><path fill-rule=\"evenodd\" fill=\"#66cc99\" stroke=\"#555555\" stroke-width=\"0.1296\" opacity=\"0.6\" d=\"M 8.0,5.0 L 7.98555418002,4.70594857901 L 7.94235584121,4.41472903395 L 7.8708210072,4.12914596824 L 7.77163859753,3.8519497029 L 7.64576379305,3.58580978952 L 7.49440883691,3.33328930094 L 7.31903136009,3.09682014751 L 7.12132034356,2.87867965644 L 6.90317985249,2.68096863991 L 6.66671069906,2.50559116309 L 6.41419021048,2.35423620695 L 6.1480502971,2.22836140247 L 5.87085403176,2.1291789928 L 5.58527096605,2.05764415879 L 5.29405142099,2.01444581998 L 5.0,2.0 L 4.70594857901,2.01444581998 L 4.41472903395,2.05764415879 L 4.12914596824,2.1291789928 L 3.8519497029,2.22836140247 L 3.58580978952,2.35423620695 L 3.33328930094,2.50559116309 L 3.09682014751,2.68096863991 L 2.87867965644,2.87867965644 L 2.68096863991,3.09682014751 L 2.50559116309,3.33328930094 L 2.35423620695,3.58580978952 L 2.22836140247,3.8519497029 L 2.1291789928,4.12914596824 L 2.05764415879,4.41472903395 L 2.01444581998,4.70594857901 L 2.0,5.0 L 2.01444581998,5.29405142099 L 2.05764415879,5.58527096605 L 2.1291789928,5.87085403176 L 2.22836140247,6.1480502971 L 2.35423620695,6.41419021048 L 2.50559116309,6.66671069906 L 2.68096863991,6.90317985249 L 2.87867965644,7.12132034356 L 3.09682014751,7.31903136009 L 3.33328930094,7.49440883691 L 3.58580978952,7.64576379305 L 3.8519497029,7.77163859753 L 4.12914596824,7.8708210072 L 4.41472903395,7.94235584121 L 4.70594857901,7.98555418002 L 5.0,8.0 L 5.29405142099,7.98555418002 L 5.58527096605,7.94235584121 L 5.87085403176,7.8708210072 L 6.1480502971,7.77163859753 L 6.41419021048,7.64576379305 L 6.66671069906,7.49440883691 L 6.90317985249,7.31903136009 L 7.12132034356,7.12132034356 L 7.31903136009,6.90317985249 L 7.49440883691,6.66671069906 L 7.64576379305,6.41419021048 L 7.77163859753,6.1480502971 L 7.8708210072,5.87085403176 L 7.94235584121,5.58527096605 L 7.98555418002,5.29405142099 L 8.0,5.0 L 8.0,5.0 z\" /></g></svg>"
      ],
      "text/plain": [
       "<shapely.geometry.polygon.Polygon at 0x7ff5e6571850>"
      ]
     },
     "execution_count": 81,
     "metadata": {},
     "output_type": "execute_result"
    }
   ],
   "source": [
    "c"
   ]
  },
  {
   "cell_type": "code",
   "execution_count": 87,
   "metadata": {},
   "outputs": [],
   "source": [
    "p = Point(2,2)"
   ]
  },
  {
   "cell_type": "code",
   "execution_count": 88,
   "metadata": {},
   "outputs": [
    {
     "data": {
      "text/plain": [
       "False"
      ]
     },
     "execution_count": 88,
     "metadata": {},
     "output_type": "execute_result"
    }
   ],
   "source": [
    "c.intersects(p)"
   ]
  },
  {
   "cell_type": "code",
   "execution_count": 89,
   "metadata": {},
   "outputs": [
    {
     "data": {
      "text/plain": [
       "5.385164807134504"
      ]
     },
     "execution_count": 89,
     "metadata": {},
     "output_type": "execute_result"
    }
   ],
   "source": [
    "line.length"
   ]
  },
  {
   "cell_type": "code",
   "execution_count": null,
   "metadata": {},
   "outputs": [],
   "source": []
  }
 ],
 "metadata": {
  "kernelspec": {
   "display_name": "Python 2",
   "language": "python",
   "name": "python2"
  },
  "language_info": {
   "codemirror_mode": {
    "name": "ipython",
    "version": 2
   },
   "file_extension": ".py",
   "mimetype": "text/x-python",
   "name": "python",
   "nbconvert_exporter": "python",
   "pygments_lexer": "ipython2",
   "version": "2.7.10"
  }
 },
 "nbformat": 4,
 "nbformat_minor": 2
}
