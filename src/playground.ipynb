{
 "cells": [
  {
   "cell_type": "code",
   "execution_count": 1,
   "metadata": {
    "collapsed": true
   },
   "outputs": [],
   "source": [
    "from shapely.geometry import Polygon, LineString, Point\n",
    "import numpy as np"
   ]
  },
  {
   "cell_type": "code",
   "execution_count": 2,
   "metadata": {
    "collapsed": true
   },
   "outputs": [],
   "source": [
    "polygon1 = Polygon([(0, 0), (1, 0), (2, 2), (3,3), (3,4), (2,5), (1,2), (0,6)])"
   ]
  },
  {
   "cell_type": "code",
   "execution_count": 3,
   "metadata": {},
   "outputs": [
    {
     "data": {
      "image/svg+xml": [
       "<svg xmlns=\"http://www.w3.org/2000/svg\" xmlns:xlink=\"http://www.w3.org/1999/xlink\" width=\"100.0\" height=\"100.0\" viewBox=\"-0.24 -0.24 3.4800000000000004 6.48\" preserveAspectRatio=\"xMinYMin meet\"><g transform=\"matrix(1,0,0,-1,0,6.0)\"><path fill-rule=\"evenodd\" fill=\"#66cc99\" stroke=\"#555555\" stroke-width=\"0.12960000000000002\" opacity=\"0.6\" d=\"M 0.0,0.0 L 1.0,0.0 L 2.0,2.0 L 3.0,3.0 L 3.0,4.0 L 2.0,5.0 L 1.0,2.0 L 0.0,6.0 L 0.0,0.0 z\" /></g></svg>"
      ],
      "text/plain": [
       "<shapely.geometry.polygon.Polygon at 0x7f2f980d3438>"
      ]
     },
     "execution_count": 3,
     "metadata": {},
     "output_type": "execute_result"
    }
   ],
   "source": [
    "polygon1"
   ]
  },
  {
   "cell_type": "code",
   "execution_count": 4,
   "metadata": {
    "collapsed": true
   },
   "outputs": [],
   "source": [
    "polygon2 = Polygon([(0, 0), (2, 0), (2, 3), (0,3)])"
   ]
  },
  {
   "cell_type": "code",
   "execution_count": 5,
   "metadata": {},
   "outputs": [
    {
     "data": {
      "image/svg+xml": [
       "<svg xmlns=\"http://www.w3.org/2000/svg\" xmlns:xlink=\"http://www.w3.org/1999/xlink\" width=\"100.0\" height=\"100.0\" viewBox=\"-0.12 -0.12 2.24 3.24\" preserveAspectRatio=\"xMinYMin meet\"><g transform=\"matrix(1,0,0,-1,0,3.0)\"><path fill-rule=\"evenodd\" fill=\"#66cc99\" stroke=\"#555555\" stroke-width=\"0.06480000000000001\" opacity=\"0.6\" d=\"M 0.0,0.0 L 2.0,0.0 L 2.0,3.0 L 0.0,3.0 L 0.0,0.0 z\" /></g></svg>"
      ],
      "text/plain": [
       "<shapely.geometry.polygon.Polygon at 0x7f2f980d3588>"
      ]
     },
     "execution_count": 5,
     "metadata": {},
     "output_type": "execute_result"
    }
   ],
   "source": [
    "polygon2"
   ]
  },
  {
   "cell_type": "code",
   "execution_count": 6,
   "metadata": {},
   "outputs": [
    {
     "data": {
      "text/plain": [
       "True"
      ]
     },
     "execution_count": 6,
     "metadata": {},
     "output_type": "execute_result"
    }
   ],
   "source": [
    "polygon1.intersection(polygon2).is_valid"
   ]
  },
  {
   "cell_type": "code",
   "execution_count": 7,
   "metadata": {
    "collapsed": true
   },
   "outputs": [],
   "source": [
    "polygon3 = Polygon([(0, 0), (1, 1), (2, 2), (3,3), (3,4), (2,5), (1,2), (3,0)])"
   ]
  },
  {
   "cell_type": "code",
   "execution_count": 8,
   "metadata": {},
   "outputs": [
    {
     "data": {
      "text/plain": [
       "True"
      ]
     },
     "execution_count": 8,
     "metadata": {},
     "output_type": "execute_result"
    }
   ],
   "source": [
    "polygon1.is_valid"
   ]
  },
  {
   "cell_type": "code",
   "execution_count": 9,
   "metadata": {},
   "outputs": [
    {
     "data": {
      "text/plain": [
       "78"
      ]
     },
     "execution_count": 9,
     "metadata": {},
     "output_type": "execute_result"
    }
   ],
   "source": [
    "len(np.linspace(1, 4, 78))"
   ]
  },
  {
   "cell_type": "code",
   "execution_count": 10,
   "metadata": {
    "collapsed": true
   },
   "outputs": [],
   "source": [
    "line = LineString([(0, 0), (2, 5)])"
   ]
  },
  {
   "cell_type": "code",
   "execution_count": 11,
   "metadata": {
    "collapsed": true
   },
   "outputs": [],
   "source": [
    "line2 = line.intersection(polygon1)"
   ]
  },
  {
   "cell_type": "code",
   "execution_count": 12,
   "metadata": {},
   "outputs": [
    {
     "data": {
      "image/svg+xml": [
       "<svg xmlns=\"http://www.w3.org/2000/svg\" xmlns:xlink=\"http://www.w3.org/1999/xlink\" width=\"100.0\" height=\"100.0\" viewBox=\"-0.2 -0.2 2.4000000000000004 5.4\" preserveAspectRatio=\"xMinYMin meet\"><g transform=\"matrix(1,0,0,-1,0,5.0)\"><g><circle cx=\"2.0\" cy=\"5.0\" r=\"0.16200000000000003\" stroke=\"#555555\" stroke-width=\"0.054000000000000006\" fill=\"#66cc99\" opacity=\"0.6\" /><polyline fill=\"none\" stroke=\"#66cc99\" stroke-width=\"0.10800000000000001\" points=\"0.0,0.0 0.9230769230769231,2.3076923076923075\" opacity=\"0.8\" /></g></g></svg>"
      ],
      "text/plain": [
       "<shapely.geometry.collection.GeometryCollection at 0x7f2f980d3668>"
      ]
     },
     "execution_count": 12,
     "metadata": {},
     "output_type": "execute_result"
    }
   ],
   "source": [
    "line2"
   ]
  },
  {
   "cell_type": "code",
   "execution_count": 13,
   "metadata": {},
   "outputs": [
    {
     "data": {
      "text/plain": [
       "[<shapely.geometry.point.Point at 0x7f2f980d3198>,\n",
       " <shapely.geometry.linestring.LineString at 0x7f2f980d3208>]"
      ]
     },
     "execution_count": 13,
     "metadata": {},
     "output_type": "execute_result"
    }
   ],
   "source": [
    "list(line2)"
   ]
  },
  {
   "cell_type": "code",
   "execution_count": 14,
   "metadata": {},
   "outputs": [
    {
     "data": {
      "text/plain": [
       "(array('d', [0.0, 2.0, 2.0, 0.0, 0.0]), array('d', [0.0, 0.0, 3.0, 3.0, 0.0]))"
      ]
     },
     "execution_count": 14,
     "metadata": {},
     "output_type": "execute_result"
    }
   ],
   "source": [
    "polygon2.exterior.coords.xy"
   ]
  },
  {
   "cell_type": "code",
   "execution_count": null,
   "metadata": {
    "collapsed": true
   },
   "outputs": [],
   "source": []
  },
  {
   "cell_type": "code",
   "execution_count": null,
   "metadata": {
    "collapsed": true
   },
   "outputs": [],
   "source": []
  },
  {
   "cell_type": "code",
   "execution_count": 15,
   "metadata": {
    "collapsed": true
   },
   "outputs": [],
   "source": [
    "c = Point(5, 5).buffer(3)"
   ]
  },
  {
   "cell_type": "code",
   "execution_count": 16,
   "metadata": {},
   "outputs": [
    {
     "data": {
      "image/svg+xml": [
       "<svg xmlns=\"http://www.w3.org/2000/svg\" xmlns:xlink=\"http://www.w3.org/1999/xlink\" width=\"100.0\" height=\"100.0\" viewBox=\"1.76 1.76 6.48 6.48\" preserveAspectRatio=\"xMinYMin meet\"><g transform=\"matrix(1,0,0,-1,0,10.0)\"><path fill-rule=\"evenodd\" fill=\"#66cc99\" stroke=\"#555555\" stroke-width=\"0.12960000000000002\" opacity=\"0.6\" d=\"M 8.0,5.0 L 7.985554180016591,4.705948579011318 L 7.942355841209691,4.414729033951616 L 7.870821007196627,4.129145968236614 L 7.771638597533861,3.851949702904732 L 7.645763793045066,3.5858097895220085 L 7.4944088369076365,3.333289300941195 L 7.319031360088212,3.096820147509065 L 7.121320343559645,2.8786796564403594 L 6.903179852490939,2.680968639911791 L 6.666710699058809,2.505591163092366 L 6.4141902104779955,2.3542362069549365 L 6.148050297095272,2.228361402466141 L 5.870854031763391,2.1291789928033746 L 5.585270966048389,2.0576441587903096 L 5.294051420988686,2.01444581998341 L 5.000000000000004,2.0 L 4.705948579011324,2.014445819983409 L 4.4147290339516205,2.057644158790308 L 4.129145968236618,2.129178992803372 L 3.8519497029047365,2.2283614024661373 L 3.585809789522013,2.3542362069549316 L 3.3332893009411984,2.505591163092361 L 3.096820147509068,2.6809686399117854 L 2.878679656440361,2.8786796564403536 L 2.6809686399117925,3.0968201475090593 L 2.505591163092367,3.333289300941189 L 2.354236206954937,3.5858097895220027 L 2.2283614024661413,3.8519497029047267 L 2.1291789928033746,4.1291459682366085 L 2.0576441587903096,4.414729033951612 L 2.0144458199834094,4.705948579011315 L 2.0,4.999999999999997 L 2.0144458199834094,5.294051420988679 L 2.057644158790308,5.585270966048382 L 2.129178992803373,5.870854031763385 L 2.228361402466139,6.148050297095268 L 2.3542362069549343,6.414190210477992 L 2.5055911630923635,6.666710699058806 L 2.6809686399117885,6.903179852490936 L 2.878679656440357,7.121320343559642 L 3.096820147509062,7.31903136008821 L 3.3332893009411912,7.494408836907635 L 3.585809789522004,7.645763793045063 L 3.8519497029047267,7.771638597533858 L 4.129145968236608,7.870821007196625 L 4.414729033951609,7.9423558412096895 L 4.705948579011311,7.98555418001659 L 4.999999999999991,8.0 L 5.294051420988672,7.9855541800165915 L 5.585270966048374,7.942355841209693 L 5.8708540317633755,7.87082100719663 L 6.148050297095258,7.771638597533865 L 6.414190210477981,7.645763793045072 L 6.666710699058795,7.494408836907644 L 6.903179852490925,7.31903136008822 L 7.121320343559631,7.121320343559654 L 7.3190313600882,6.9031798524909505 L 7.494408836907626,6.666710699058822 L 7.645763793045056,6.41419021047801 L 7.771638597533852,6.148050297095288 L 7.87082100719662,5.8708540317634075 L 7.942355841209687,5.585270966048407 L 7.985554180016589,5.294051420988706 L 8.0,5.000000000000025 L 8.0,5.0 z\" /></g></svg>"
      ],
      "text/plain": [
       "<shapely.geometry.polygon.Polygon at 0x7f2f980d3ba8>"
      ]
     },
     "execution_count": 16,
     "metadata": {},
     "output_type": "execute_result"
    }
   ],
   "source": [
    "c"
   ]
  },
  {
   "cell_type": "code",
   "execution_count": 17,
   "metadata": {
    "collapsed": true
   },
   "outputs": [],
   "source": [
    "p = Point(2,2)"
   ]
  },
  {
   "cell_type": "code",
   "execution_count": 18,
   "metadata": {},
   "outputs": [
    {
     "data": {
      "text/plain": [
       "False"
      ]
     },
     "execution_count": 18,
     "metadata": {},
     "output_type": "execute_result"
    }
   ],
   "source": [
    "c.intersects(p)"
   ]
  },
  {
   "cell_type": "code",
   "execution_count": 19,
   "metadata": {},
   "outputs": [
    {
     "data": {
      "text/plain": [
       "5.385164807134504"
      ]
     },
     "execution_count": 19,
     "metadata": {},
     "output_type": "execute_result"
    }
   ],
   "source": [
    "line.length"
   ]
  },
  {
   "cell_type": "code",
   "execution_count": null,
   "metadata": {
    "collapsed": true
   },
   "outputs": [],
   "source": []
  },
  {
   "cell_type": "code",
   "execution_count": null,
   "metadata": {
    "collapsed": true
   },
   "outputs": [],
   "source": []
  },
  {
   "cell_type": "code",
   "execution_count": 20,
   "metadata": {
    "collapsed": true
   },
   "outputs": [],
   "source": [
    "a = np.array([[1,2], [3, np.nan]])"
   ]
  },
  {
   "cell_type": "code",
   "execution_count": 21,
   "metadata": {
    "collapsed": true
   },
   "outputs": [],
   "source": [
    "mask = np.invert(np.isnan(a))"
   ]
  },
  {
   "cell_type": "code",
   "execution_count": 22,
   "metadata": {
    "collapsed": true
   },
   "outputs": [],
   "source": [
    "sample_mask = np.random.rand(*a.shape) < 0.2"
   ]
  },
  {
   "cell_type": "code",
   "execution_count": 23,
   "metadata": {
    "collapsed": true
   },
   "outputs": [],
   "source": [
    "a[mask & sample_mask] = np.nan"
   ]
  },
  {
   "cell_type": "code",
   "execution_count": 24,
   "metadata": {},
   "outputs": [
    {
     "data": {
      "text/plain": [
       "array([[ 1., nan],\n",
       "       [ 3., nan]])"
      ]
     },
     "execution_count": 24,
     "metadata": {},
     "output_type": "execute_result"
    }
   ],
   "source": [
    "a"
   ]
  },
  {
   "cell_type": "code",
   "execution_count": 25,
   "metadata": {},
   "outputs": [
    {
     "data": {
      "text/plain": [
       "array([[False,  True],\n",
       "       [False, False]])"
      ]
     },
     "execution_count": 25,
     "metadata": {},
     "output_type": "execute_result"
    }
   ],
   "source": [
    "sample_mask"
   ]
  },
  {
   "cell_type": "code",
   "execution_count": 26,
   "metadata": {},
   "outputs": [
    {
     "data": {
      "text/plain": [
       "True"
      ]
     },
     "execution_count": 26,
     "metadata": {},
     "output_type": "execute_result"
    }
   ],
   "source": [
    "np.inf > 10"
   ]
  },
  {
   "cell_type": "code",
   "execution_count": 27,
   "metadata": {},
   "outputs": [
    {
     "name": "stderr",
     "output_type": "stream",
     "text": [
      "/home/lemma/anaconda2/envs/python3/lib/python3.6/site-packages/h5py/__init__.py:34: FutureWarning: Conversion of the second argument of issubdtype from `float` to `np.floating` is deprecated. In future, it will be treated as `np.float64 == np.dtype(float).type`.\n",
      "  from ._conv import register_converters as _register_converters\n",
      "Using TensorFlow backend.\n"
     ]
    }
   ],
   "source": [
    "from fancyimpute import SoftImpute\n"
   ]
  },
  {
   "cell_type": "code",
   "execution_count": 28,
   "metadata": {
    "collapsed": true
   },
   "outputs": [],
   "source": [
    "s = SoftImpute(max_rank= 5)"
   ]
  },
  {
   "cell_type": "code",
   "execution_count": 30,
   "metadata": {},
   "outputs": [
    {
     "name": "stdout",
     "output_type": "stream",
     "text": [
      "[SoftImpute] Max Singular Value of X_init = 3.162278\n",
      "[SoftImpute] Iter 1: observed MAE=0.040000 rank=1\n",
      "[SoftImpute] Iter 2: observed MAE=0.040000 rank=1\n",
      "[SoftImpute] Iter 3: observed MAE=0.040000 rank=1\n",
      "[SoftImpute] Iter 4: observed MAE=0.040000 rank=1\n",
      "[SoftImpute] Iter 5: observed MAE=0.040000 rank=1\n",
      "[SoftImpute] Iter 6: observed MAE=0.040000 rank=1\n",
      "[SoftImpute] Iter 7: observed MAE=0.040000 rank=1\n",
      "[SoftImpute] Iter 8: observed MAE=0.040000 rank=1\n",
      "[SoftImpute] Iter 9: observed MAE=0.040000 rank=1\n",
      "[SoftImpute] Iter 10: observed MAE=0.040000 rank=1\n",
      "[SoftImpute] Iter 11: observed MAE=0.040000 rank=1\n",
      "[SoftImpute] Iter 12: observed MAE=0.040000 rank=1\n",
      "[SoftImpute] Iter 13: observed MAE=0.040000 rank=1\n",
      "[SoftImpute] Iter 14: observed MAE=0.040000 rank=1\n",
      "[SoftImpute] Iter 15: observed MAE=0.040000 rank=1\n",
      "[SoftImpute] Iter 16: observed MAE=0.040000 rank=1\n",
      "[SoftImpute] Iter 17: observed MAE=0.040000 rank=1\n",
      "[SoftImpute] Iter 18: observed MAE=0.040000 rank=1\n",
      "[SoftImpute] Iter 19: observed MAE=0.040000 rank=1\n",
      "[SoftImpute] Iter 20: observed MAE=0.040000 rank=1\n",
      "[SoftImpute] Iter 21: observed MAE=0.040000 rank=1\n",
      "[SoftImpute] Iter 22: observed MAE=0.040000 rank=1\n",
      "[SoftImpute] Iter 23: observed MAE=0.040000 rank=1\n",
      "[SoftImpute] Iter 24: observed MAE=0.040000 rank=1\n",
      "[SoftImpute] Iter 25: observed MAE=0.040000 rank=1\n",
      "[SoftImpute] Iter 26: observed MAE=0.040000 rank=1\n",
      "[SoftImpute] Iter 27: observed MAE=0.040000 rank=1\n",
      "[SoftImpute] Iter 28: observed MAE=0.040000 rank=1\n",
      "[SoftImpute] Iter 29: observed MAE=0.040000 rank=1\n",
      "[SoftImpute] Iter 30: observed MAE=0.040000 rank=1\n",
      "[SoftImpute] Iter 31: observed MAE=0.040000 rank=1\n",
      "[SoftImpute] Iter 32: observed MAE=0.040000 rank=1\n",
      "[SoftImpute] Iter 33: observed MAE=0.040000 rank=1\n",
      "[SoftImpute] Iter 34: observed MAE=0.040000 rank=1\n",
      "[SoftImpute] Iter 35: observed MAE=0.040000 rank=1\n",
      "[SoftImpute] Iter 36: observed MAE=0.040000 rank=1\n",
      "[SoftImpute] Iter 37: observed MAE=0.040000 rank=1\n",
      "[SoftImpute] Iter 38: observed MAE=0.040000 rank=1\n",
      "[SoftImpute] Iter 39: observed MAE=0.040000 rank=1\n",
      "[SoftImpute] Iter 40: observed MAE=0.040000 rank=1\n",
      "[SoftImpute] Iter 41: observed MAE=0.040000 rank=1\n",
      "[SoftImpute] Iter 42: observed MAE=0.040000 rank=1\n",
      "[SoftImpute] Iter 43: observed MAE=0.040000 rank=1\n",
      "[SoftImpute] Iter 44: observed MAE=0.040000 rank=1\n",
      "[SoftImpute] Iter 45: observed MAE=0.040000 rank=1\n",
      "[SoftImpute] Iter 46: observed MAE=0.040000 rank=1\n",
      "[SoftImpute] Iter 47: observed MAE=0.040000 rank=1\n",
      "[SoftImpute] Iter 48: observed MAE=0.040000 rank=1\n",
      "[SoftImpute] Iter 49: observed MAE=0.040000 rank=1\n",
      "[SoftImpute] Iter 50: observed MAE=0.040000 rank=1\n",
      "[SoftImpute] Iter 51: observed MAE=0.040000 rank=1\n",
      "[SoftImpute] Iter 52: observed MAE=0.040000 rank=1\n",
      "[SoftImpute] Iter 53: observed MAE=0.040000 rank=1\n",
      "[SoftImpute] Iter 54: observed MAE=0.040000 rank=1\n",
      "[SoftImpute] Iter 55: observed MAE=0.040000 rank=1\n",
      "[SoftImpute] Iter 56: observed MAE=0.040000 rank=1\n",
      "[SoftImpute] Iter 57: observed MAE=0.040000 rank=1\n",
      "[SoftImpute] Iter 58: observed MAE=0.040000 rank=1\n",
      "[SoftImpute] Iter 59: observed MAE=0.040000 rank=1\n",
      "[SoftImpute] Iter 60: observed MAE=0.040000 rank=1\n",
      "[SoftImpute] Iter 61: observed MAE=0.040000 rank=1\n",
      "[SoftImpute] Iter 62: observed MAE=0.040000 rank=1\n",
      "[SoftImpute] Iter 63: observed MAE=0.040000 rank=1\n",
      "[SoftImpute] Iter 64: observed MAE=0.040000 rank=1\n",
      "[SoftImpute] Iter 65: observed MAE=0.040000 rank=1\n",
      "[SoftImpute] Iter 66: observed MAE=0.040000 rank=1\n",
      "[SoftImpute] Iter 67: observed MAE=0.040000 rank=1\n",
      "[SoftImpute] Iter 68: observed MAE=0.040000 rank=1\n",
      "[SoftImpute] Iter 69: observed MAE=0.040000 rank=1\n",
      "[SoftImpute] Iter 70: observed MAE=0.040000 rank=1\n",
      "[SoftImpute] Iter 71: observed MAE=0.040000 rank=1\n",
      "[SoftImpute] Iter 72: observed MAE=0.040000 rank=1\n",
      "[SoftImpute] Iter 73: observed MAE=0.040000 rank=1\n",
      "[SoftImpute] Iter 74: observed MAE=0.040000 rank=1\n",
      "[SoftImpute] Iter 75: observed MAE=0.040000 rank=1\n",
      "[SoftImpute] Iter 76: observed MAE=0.040000 rank=1\n",
      "[SoftImpute] Iter 77: observed MAE=0.040000 rank=1\n",
      "[SoftImpute] Iter 78: observed MAE=0.040000 rank=1\n",
      "[SoftImpute] Iter 79: observed MAE=0.040000 rank=1\n",
      "[SoftImpute] Iter 80: observed MAE=0.040000 rank=1\n",
      "[SoftImpute] Iter 81: observed MAE=0.040000 rank=1\n",
      "[SoftImpute] Iter 82: observed MAE=0.040000 rank=1\n",
      "[SoftImpute] Iter 83: observed MAE=0.040000 rank=1\n",
      "[SoftImpute] Iter 84: observed MAE=0.040000 rank=1\n",
      "[SoftImpute] Iter 85: observed MAE=0.040000 rank=1\n",
      "[SoftImpute] Iter 86: observed MAE=0.040000 rank=1\n",
      "[SoftImpute] Iter 87: observed MAE=0.040000 rank=1\n",
      "[SoftImpute] Iter 88: observed MAE=0.040000 rank=1\n",
      "[SoftImpute] Iter 89: observed MAE=0.040000 rank=1\n",
      "[SoftImpute] Iter 90: observed MAE=0.040000 rank=1\n",
      "[SoftImpute] Iter 91: observed MAE=0.040000 rank=1\n",
      "[SoftImpute] Iter 92: observed MAE=0.040000 rank=1\n",
      "[SoftImpute] Iter 93: observed MAE=0.040000 rank=1\n",
      "[SoftImpute] Iter 94: observed MAE=0.040000 rank=1\n",
      "[SoftImpute] Iter 95: observed MAE=0.040000 rank=1\n",
      "[SoftImpute] Iter 96: observed MAE=0.040000 rank=1\n",
      "[SoftImpute] Iter 97: observed MAE=0.040000 rank=1\n",
      "[SoftImpute] Iter 98: observed MAE=0.040000 rank=1\n",
      "[SoftImpute] Iter 99: observed MAE=0.040000 rank=1\n",
      "[SoftImpute] Iter 100: observed MAE=0.040000 rank=1\n",
      "[SoftImpute] Stopped after iteration 100 for lambda=0.063246\n"
     ]
    },
    {
     "data": {
      "text/plain": [
       "array([[1., 0.],\n",
       "       [3., 0.]])"
      ]
     },
     "execution_count": 30,
     "metadata": {},
     "output_type": "execute_result"
    }
   ],
   "source": [
    "s.fit_transform(a)"
   ]
  },
  {
   "cell_type": "code",
   "execution_count": 31,
   "metadata": {
    "collapsed": true
   },
   "outputs": [],
   "source": [
    "a = dict()"
   ]
  },
  {
   "cell_type": "code",
   "execution_count": 32,
   "metadata": {
    "collapsed": true
   },
   "outputs": [],
   "source": [
    "a[None] = 4"
   ]
  },
  {
   "cell_type": "code",
   "execution_count": 33,
   "metadata": {},
   "outputs": [
    {
     "data": {
      "text/plain": [
       "{None: 4}"
      ]
     },
     "execution_count": 33,
     "metadata": {},
     "output_type": "execute_result"
    }
   ],
   "source": [
    "a"
   ]
  },
  {
   "cell_type": "code",
   "execution_count": null,
   "metadata": {
    "collapsed": true
   },
   "outputs": [],
   "source": []
  }
 ],
 "metadata": {
  "kernelspec": {
   "display_name": "Python 3",
   "language": "python",
   "name": "python3"
  },
  "language_info": {
   "codemirror_mode": {
    "name": "ipython",
    "version": 3
   },
   "file_extension": ".py",
   "mimetype": "text/x-python",
   "name": "python",
   "nbconvert_exporter": "python",
   "pygments_lexer": "ipython3",
   "version": "3.6.1"
  }
 },
 "nbformat": 4,
 "nbformat_minor": 2
}
