{
 "cells": [
  {
   "cell_type": "code",
   "execution_count": null,
   "metadata": {
    "collapsed": true
   },
   "outputs": [],
   "source": [
    "%load_ext autoreload\n",
    "%autoreload 2"
   ]
  },
  {
   "cell_type": "code",
   "execution_count": null,
   "metadata": {
    "collapsed": true
   },
   "outputs": [],
   "source": [
    "import os\n",
    "import numpy as np\n",
    "import pickle\n",
    "import seaborn as sns\n",
    "import matplotlib.pyplot as plt\n",
    "import pandas as pd"
   ]
  },
  {
   "cell_type": "code",
   "execution_count": null,
   "metadata": {},
   "outputs": [],
   "source": [
    "from ngsim import *\n",
    "from sensing import *\n",
    "from measures import *\n",
    "from simulator import *\n",
    "from three_network import *\n",
    "from three_network_platoon import *"
   ]
  },
  {
   "cell_type": "code",
   "execution_count": null,
   "metadata": {
    "collapsed": true
   },
   "outputs": [],
   "source": [
    "ls = run_three_networks(p_rate = 0.05, meter = 50, miss_rate = 0.05, spd_noise = 3.28084 * 0.0,\n",
    "                      sensing_power = 2, \n",
    "                      sample_rate = 1000, s1 = 'SI', s2 = 'LR2')\n"
   ]
  },
  {
   "cell_type": "code",
   "execution_count": null,
   "metadata": {},
   "outputs": [],
   "source": [
    "for s1 in ['SI']:\n",
    "    for s2 in ['SI', 'KNN', 'NI', 'LR', 'LR2', 'RF', 'RF2']:\n",
    "        for sp in [1]:\n",
    "            ls = run_three_networks(p_rate = 0.05, meter = 50, miss_rate = 0.05, spd_noise = 3.28084 * 0.0,\n",
    "                                  sensing_power = sp, \n",
    "                                  sample_rate = 1000, s1 = s1, s2 = s2)\n",
    "            pickle.dump(ls, open(os.path.join('..', 'data', 'results', 'methodsp_' + s1 + '_' + s2 + '_' +\n",
    "                                              str(sp)+ '.pickle'), 'wb'))"
   ]
  },
  {
   "cell_type": "code",
   "execution_count": null,
   "metadata": {
    "collapsed": true
   },
   "outputs": [],
   "source": [
    "for p_rate in [0.05]:\n",
    "    ls = run_three_networks(p_rate = p_rate, meter = 50, miss_rate = 0.05, spd_noise = 3.28084 * 0.0,\n",
    "                          sensing_power = 2, \n",
    "                          sample_rate = 1000, s1 = 'SI', s2 = 'LR2')\n",
    "    pickle.dump(ls, open(os.path.join('..', 'data', 'results', 'mp_' + str(p_rate) + '.pickle'), 'wb'))"
   ]
  },
  {
   "cell_type": "code",
   "execution_count": null,
   "metadata": {
    "scrolled": true
   },
   "outputs": [],
   "source": [
    "for sp in [0, 1, 2]:\n",
    "    for p_rate in np.linspace(0.03, 0.7, 15).tolist():\n",
    "        try:\n",
    "            ls = run_three_networks(p_rate = p_rate, meter = 50, miss_rate = 0.05, spd_noise = 3.28084 * 0.0,\n",
    "                                  sensing_power = sp, \n",
    "                                  sample_rate = 1000, s1 = 'SI', s2 = 'LR2')\n",
    "            pickle.dump(ls, open(os.path.join('..', 'data', 'results', 'mpsp_' + str(p_rate) + '_' +str(sp) + '.pickle'), 'wb'))\n",
    "        except:\n",
    "            print (sp, p_rate)"
   ]
  },
  {
   "cell_type": "code",
   "execution_count": null,
   "metadata": {
    "collapsed": true
   },
   "outputs": [],
   "source": [
    "for meters in [10, 20, 30, 40, 50, 60, 70]:\n",
    "    ls = run_three_networks(p_rate = 0.05, meter = meters, miss_rate = 0.05, spd_noise = 3.28084 * 0.0,\n",
    "                          sensing_power = 2, \n",
    "                          sample_rate = 1000, s1 = 'SI', s2 = 'LR2')\n",
    "    pickle.dump(ls, open(os.path.join('..', 'data', 'results', 'mt_' + str(meters) + '.pickle'), 'wb'))"
   ]
  },
  {
   "cell_type": "code",
   "execution_count": null,
   "metadata": {
    "collapsed": true,
    "scrolled": false
   },
   "outputs": [],
   "source": [
    "for sr in [1600, 1800, 2000, 2200, 2400, 2600, 2800, 3000]:\n",
    "    ls = run_three_networks(p_rate = 0.05, meter = 50, miss_rate = 0.05, spd_noise = 3.28084 * 0.0,\n",
    "                          sensing_power = 2, \n",
    "                          sample_rate = sr, s1 = 'SI', s2 = 'LR2')\n",
    "    pickle.dump(ls, open(os.path.join('..', 'data', 'results', 'sr_' + str(sr) + '.pickle'), 'wb'))"
   ]
  },
  {
   "cell_type": "code",
   "execution_count": null,
   "metadata": {
    "collapsed": true
   },
   "outputs": [],
   "source": [
    "for spn in [0, 0.05, 0.1, 0.15, 0.2, 0.25, 0.3, 0.35, 0.4]:\n",
    "    ls = run_three_networks(p_rate = 0.05, meter = 50, miss_rate = 0.05, spd_noise = spn,\n",
    "                          sensing_power = 2, \n",
    "                          sample_rate = 1000, s1 = 'SI', s2 = 'LR2')\n",
    "    pickle.dump(ls, open(os.path.join('..', 'data', 'results', 'spn_' + str(spn) + '.pickle'), 'wb'))"
   ]
  },
  {
   "cell_type": "code",
   "execution_count": null,
   "metadata": {
    "collapsed": true
   },
   "outputs": [],
   "source": [
    "for miss_rate in [0.35, 0.4, 0.5, 0.6, 0.7, 0.8, 0.9]:\n",
    "    ls = run_three_networks(p_rate = 0.05, meter = 50, miss_rate = miss_rate, spd_noise = 3.28084 * 0.0,\n",
    "                              sensing_power = 2, \n",
    "                              sample_rate = 1000, s1 = 'SI', s2 = 'LR2')\n",
    "    pickle.dump(ls, open(os.path.join('..', 'data', 'results', 'miss_' + str(miss_rate) + '.pickle'), 'wb'))"
   ]
  },
  {
   "cell_type": "code",
   "execution_count": null,
   "metadata": {},
   "outputs": [],
   "source": [
    "ls = run_three_networks_platoon(p_rate = 0.05, meter = 50, miss_rate = 0.05, spd_noise = 3.28084 * 0.0,\n",
    "                              sensing_power = 2, \n",
    "                              sample_rate = 1000, s1 = 'SI', s2 = 'LR2')\n",
    "pickle.dump(ls, open(os.path.join('..', 'data', 'results', 'platoon3.pickle'), 'wb'))"
   ]
  },
  {
   "cell_type": "code",
   "execution_count": null,
   "metadata": {
    "collapsed": true
   },
   "outputs": [],
   "source": []
  }
 ],
 "metadata": {
  "kernelspec": {
   "display_name": "Python 3",
   "language": "python",
   "name": "python3"
  },
  "language_info": {
   "codemirror_mode": {
    "name": "ipython",
    "version": 3
   },
   "file_extension": ".py",
   "mimetype": "text/x-python",
   "name": "python",
   "nbconvert_exporter": "python",
   "pygments_lexer": "ipython3",
   "version": "3.6.8"
  }
 },
 "nbformat": 4,
 "nbformat_minor": 2
}
